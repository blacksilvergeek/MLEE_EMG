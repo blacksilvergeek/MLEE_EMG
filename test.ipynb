{
 "cells": [
  {
   "cell_type": "code",
   "execution_count": 11,
   "metadata": {},
   "outputs": [
    {
     "name": "stdout",
     "output_type": "stream",
     "text": [
      "c:\\Users\\blacksilver\\Desktop\\MLEE_EMG\n"
     ]
    },
    {
     "data": {
      "text/html": [
       "<div>\n",
       "<style scoped>\n",
       "    .dataframe tbody tr th:only-of-type {\n",
       "        vertical-align: middle;\n",
       "    }\n",
       "\n",
       "    .dataframe tbody tr th {\n",
       "        vertical-align: top;\n",
       "    }\n",
       "\n",
       "    .dataframe thead th {\n",
       "        text-align: right;\n",
       "    }\n",
       "</style>\n",
       "<table border=\"1\" class=\"dataframe\">\n",
       "  <thead>\n",
       "    <tr style=\"text-align: right;\">\n",
       "      <th></th>\n",
       "      <th>time</th>\n",
       "      <th>channel1</th>\n",
       "      <th>channel2</th>\n",
       "      <th>channel3</th>\n",
       "      <th>channel4</th>\n",
       "      <th>channel5</th>\n",
       "      <th>channel6</th>\n",
       "      <th>channel7</th>\n",
       "      <th>channel8</th>\n",
       "      <th>class</th>\n",
       "      <th>label</th>\n",
       "    </tr>\n",
       "  </thead>\n",
       "  <tbody>\n",
       "    <tr>\n",
       "      <th>0</th>\n",
       "      <td>1</td>\n",
       "      <td>0.00001</td>\n",
       "      <td>-0.00002</td>\n",
       "      <td>-0.00001</td>\n",
       "      <td>-0.00003</td>\n",
       "      <td>0.00000</td>\n",
       "      <td>-0.00001</td>\n",
       "      <td>0.00000</td>\n",
       "      <td>-0.00001</td>\n",
       "      <td>0</td>\n",
       "      <td>1</td>\n",
       "    </tr>\n",
       "    <tr>\n",
       "      <th>1</th>\n",
       "      <td>5</td>\n",
       "      <td>0.00001</td>\n",
       "      <td>-0.00002</td>\n",
       "      <td>-0.00001</td>\n",
       "      <td>-0.00003</td>\n",
       "      <td>0.00000</td>\n",
       "      <td>-0.00001</td>\n",
       "      <td>0.00000</td>\n",
       "      <td>-0.00001</td>\n",
       "      <td>0</td>\n",
       "      <td>1</td>\n",
       "    </tr>\n",
       "    <tr>\n",
       "      <th>2</th>\n",
       "      <td>6</td>\n",
       "      <td>-0.00001</td>\n",
       "      <td>0.00001</td>\n",
       "      <td>0.00002</td>\n",
       "      <td>0.00000</td>\n",
       "      <td>0.00001</td>\n",
       "      <td>-0.00002</td>\n",
       "      <td>-0.00001</td>\n",
       "      <td>0.00001</td>\n",
       "      <td>0</td>\n",
       "      <td>1</td>\n",
       "    </tr>\n",
       "    <tr>\n",
       "      <th>3</th>\n",
       "      <td>7</td>\n",
       "      <td>-0.00001</td>\n",
       "      <td>0.00001</td>\n",
       "      <td>0.00002</td>\n",
       "      <td>0.00000</td>\n",
       "      <td>0.00001</td>\n",
       "      <td>-0.00002</td>\n",
       "      <td>-0.00001</td>\n",
       "      <td>0.00001</td>\n",
       "      <td>0</td>\n",
       "      <td>1</td>\n",
       "    </tr>\n",
       "    <tr>\n",
       "      <th>4</th>\n",
       "      <td>8</td>\n",
       "      <td>-0.00001</td>\n",
       "      <td>0.00001</td>\n",
       "      <td>0.00002</td>\n",
       "      <td>0.00000</td>\n",
       "      <td>0.00001</td>\n",
       "      <td>-0.00002</td>\n",
       "      <td>-0.00001</td>\n",
       "      <td>0.00001</td>\n",
       "      <td>0</td>\n",
       "      <td>1</td>\n",
       "    </tr>\n",
       "  </tbody>\n",
       "</table>\n",
       "</div>"
      ],
      "text/plain": [
       "   time  channel1  channel2  channel3  channel4  channel5  channel6  channel7  \\\n",
       "0     1   0.00001  -0.00002  -0.00001  -0.00003   0.00000  -0.00001   0.00000   \n",
       "1     5   0.00001  -0.00002  -0.00001  -0.00003   0.00000  -0.00001   0.00000   \n",
       "2     6  -0.00001   0.00001   0.00002   0.00000   0.00001  -0.00002  -0.00001   \n",
       "3     7  -0.00001   0.00001   0.00002   0.00000   0.00001  -0.00002  -0.00001   \n",
       "4     8  -0.00001   0.00001   0.00002   0.00000   0.00001  -0.00002  -0.00001   \n",
       "\n",
       "   channel8  class  label  \n",
       "0  -0.00001      0      1  \n",
       "1  -0.00001      0      1  \n",
       "2   0.00001      0      1  \n",
       "3   0.00001      0      1  \n",
       "4   0.00001      0      1  "
      ]
     },
     "execution_count": 11,
     "metadata": {},
     "output_type": "execute_result"
    }
   ],
   "source": [
    "import pandas as pd\n",
    "import os\n",
    "import matplotlib.pyplot as plt\n",
    "import numpy as np\n",
    "print(os.getcwd())\n",
    "data_raw = pd.read_csv(r'data\\Project_Data_EE4C12_S&S_EMG.csv')\n",
    "data_raw.head()"
   ]
  },
  {
   "cell_type": "code",
   "execution_count": 12,
   "metadata": {},
   "outputs": [],
   "source": [
    "def data_normalize(data):\n",
    "    data_norm = data - np.mean(data)\n",
    "    data_norm = data_norm / np.std(data_norm)\n",
    "    return data_norm"
   ]
  },
  {
   "cell_type": "code",
   "execution_count": 13,
   "metadata": {},
   "outputs": [],
   "source": [
    "data_copy = data_raw.copy()\n",
    "for col in data_raw.columns[1:9]:\n",
    "    data_copy[col]=data_normalize(data_raw[col])"
   ]
  },
  {
   "cell_type": "code",
   "execution_count": 14,
   "metadata": {},
   "outputs": [],
   "source": [
    "# data_copy = data_raw.copy()\n",
    "data_classes = []\n",
    "n_classes = data_copy['class'].max()+1\n",
    "for class_ in range(n_classes):\n",
    "    data_classes.append(data_copy[data_copy['class'] == class_])"
   ]
  },
  {
   "cell_type": "code",
   "execution_count": 22,
   "metadata": {},
   "outputs": [],
   "source": [
    "from sklearn.metrics import ConfusionMatrixDisplay\n",
    "from sklearn.model_selection import train_test_split\n",
    "\n",
    "\n",
    "def Classifier(clf,X_input,Y_input, normlize = 'false'):\n",
    "    X_train, X_val, y_train, y_val = train_test_split(X_input, Y_input, test_size=0.25, random_state=472000000)\n",
    "    clf.fit(X_train, y_train)\n",
    "    y_pred = clf.predict(X_val)\n",
    "    y_pred_train = clf.predict(X_train)\n",
    "    \n",
    "    # plot confusion matrix\n",
    "    \n",
    "    ConfusionMatrixDisplay.from_predictions(y_train, y_pred_train, normalize='true')\n",
    "    ConfusionMatrixDisplay.from_predictions(y_val, y_pred, normalize='true')"
   ]
  },
  {
   "cell_type": "code",
   "execution_count": 23,
   "metadata": {},
   "outputs": [
    {
     "data": {
      "image/png": "[encoded data removed]",
      "text/plain": [
       "<Figure size 432x288 with 2 Axes>"
      ]
     },
     "metadata": {
      "needs_background": "light"
     },
     "output_type": "display_data"
    },
    {
     "data": {
      "image/png": "[encoded data removed]",
      "text/plain": [
       "<Figure size 432x288 with 2 Axes>"
      ]
     },
     "metadata": {
      "needs_background": "light"
     },
     "output_type": "display_data"
    }
   ],
   "source": [
    "from sklearn.ensemble import RandomForestClassifier\n",
    "\n",
    "data_all=np.concatenate((data_classes), axis=0)\n",
    "data_signal = data_all[:,1:9]\n",
    "\n",
    "\n",
    "# gradient boost random forest\n",
    "# clf_GBC = GradientBoostingClassifier()\n",
    "clf_RFC = RandomForestClassifier(n_jobs=-1, bootstrap = True)\n",
    "# clf_xgb = XGBClassifier()\n",
    "Classifier(clf_RFC,data_signal,data_all[:,9])"
   ]
  },
  {
   "cell_type": "code",
   "execution_count": 27,
   "metadata": {},
   "outputs": [
    {
     "data": {
      "text/plain": [
       "(2,)"
      ]
     },
     "execution_count": 27,
     "metadata": {},
     "output_type": "execute_result"
    }
   ],
   "source": [
    "aaa=(1,2,3)\n",
    "aaa[1:2]"
   ]
  },
  {
   "cell_type": "code",
   "execution_count": 25,
   "metadata": {},
   "outputs": [
    {
     "data": {
      "text/plain": [
       "1"
      ]
     },
     "execution_count": 25,
     "metadata": {},
     "output_type": "execute_result"
    }
   ],
   "source": [
    "(1)"
   ]
  },
  {
   "cell_type": "code",
   "execution_count": 28,
   "metadata": {},
   "outputs": [
    {
     "data": {
      "text/plain": [
       "(1,)"
      ]
     },
     "execution_count": 28,
     "metadata": {},
     "output_type": "execute_result"
    }
   ],
   "source": [
    "(1,)"
   ]
  },
  {
   "cell_type": "code",
   "execution_count": null,
   "metadata": {},
   "outputs": [],
   "source": []
  }
 ],
 "metadata": {
  "kernelspec": {
   "display_name": "Python 3.9.12 ('base')",
   "language": "python",
   "name": "python3"
  },
  "language_info": {
   "codemirror_mode": {
    "name": "ipython",
    "version": 3
   },
   "file_extension": ".py",
   "mimetype": "text/x-python",
   "name": "python",
   "nbconvert_exporter": "python",
   "pygments_lexer": "ipython3",
   "version": "3.9.12"
  },
  "orig_nbformat": 4,
  "vscode": {
   "interpreter": {
    "hash": "ad2bdc8ecc057115af97d19610ffacc2b4e99fae6737bb82f5d7fb13d2f2c186"
   }
  }
 },
 "nbformat": 4,
 "nbformat_minor": 2
}
